{
 "cells": [
  {
   "cell_type": "markdown",
   "id": "a234d0a2",
   "metadata": {},
   "source": [
    "    Необходимо провести исследование текущего уровня потребительской лояльности (NPS) среди клиентов из России. Заказчик исследования — большая телекоммуникационная компания, которая оказывает услуги на территории всего СНГ. \n",
    "    Чтобы определить уровень лояльности, клиентам задавали классический вопрос: «Оцените по шкале от 1 до 10 вероятность того, что вы порекомендуете компанию друзьям и знакомым»\n",
    "    В нашем распоряжении данные, опубликованными на портале открытых данных Министерства культуры. Набор данных содержит информацию о прокатных удостоверениях, сборах и государственной поддержке фильмов, а также информацию с сайта КиноПоиск.\n",
    "    \n",
    "    файл с данными /datasets/telecomm_csi.db"
   ]
  },
  {
   "cell_type": "code",
   "execution_count": 1,
   "id": "4ebe4e85",
   "metadata": {},
   "outputs": [],
   "source": [
    "import os\n",
    "import pandas as pd\n",
    "import numpy as np\n",
    "\n",
    "from sqlalchemy import create_engine"
   ]
  },
  {
   "cell_type": "code",
   "execution_count": 2,
   "id": "0017f8e7",
   "metadata": {},
   "outputs": [],
   "source": [
    "path_to_db_local = 'telecomm_csi.db'\n",
    "path_to_db_platform = '/datasets/telecomm_csi.db'\n",
    "path_to_db = None\n",
    "\n",
    "if os.path.exists(path_to_db_local):\n",
    "    path_to_db = path_to_db_local\n",
    "elif os.path.exists(path_to_db_platform):\n",
    "    path_to_db = path_to_db_platform\n",
    "else:\n",
    "    raise Exception('Файл с базой данных SQLite не найден!')\n",
    "\n",
    "if path_to_db:\n",
    "    engine = create_engine(f'sqlite:///{path_to_db}', echo=False)"
   ]
  },
  {
   "cell_type": "code",
   "execution_count": 3,
   "id": "84ebad43",
   "metadata": {},
   "outputs": [],
   "source": [
    "query = \"\"\"\n",
    "\n",
    "WITH\n",
    "u AS(SELECT *,\n",
    "       CASE\n",
    "           WHEN gender_segment == 1.0 THEN 'женщина'\n",
    "           WHEN gender_segment == 0.0 THEN 'мужчина'\n",
    "           ELSE 'не определено'\n",
    "        END as gender_segment_new,\n",
    "        \n",
    "        CASE\n",
    "           WHEN nps_score <= 6 THEN 'критики'\n",
    "           WHEN nps_score >= 6 AND nps_score < 9 THEN 'нейтралы'\n",
    "           WHEN nps_score >= 9 THEN 'cторонники'\n",
    "                   \n",
    "        END as nps_group,\n",
    "        \n",
    "        CASE\n",
    "           WHEN lt_day <= 365 THEN 'новый'\n",
    "           WHEN lt_day > 365 THEN 'существующий'\n",
    "        END as lt_day_new,\n",
    "        \n",
    "        CASE\n",
    "           WHEN lt_day < 365 THEN 'новый'\n",
    "           WHEN lt_day >= 365 THEN 'существующий'\n",
    "        END as lt_day_new_old\n",
    "\n",
    "FROM user)\n",
    "\n",
    "SELECT u.user_id,\n",
    "    u.lt_day,\n",
    "    u.lt_day_new as is_new,\n",
    "    u.age,\n",
    "    u.gender_segment_new as gender_segment,\n",
    "    u.os_name,\n",
    "    u.cpe_type_name,\n",
    "    l.country,\n",
    "    l.city,\n",
    "    SUBSTRING(a.title, 3) as age_segment,\n",
    "    SUBSTRING(t.title, 3) as traffic_segment,\n",
    "    SUBSTRING(lt.title, 3) as lifetime_segment,\n",
    "    u.nps_score,\n",
    "    u.nps_group,\n",
    "    u.lt_day_new_old as is_new_old\n",
    "    \n",
    "FROM u\n",
    "LEFT JOIN location as l ON u.location_id = l.location_id\n",
    "LEFT JOIN age_segment as a ON u.age_gr_id = a.age_gr_id\n",
    "LEFT JOIN traffic_segment as t ON u.tr_gr_id = t.tr_gr_id\n",
    "LEFT JOIN lifetime_segment as lt ON u.lt_gr_id = lt.lt_gr_id\n",
    "--lifetime_segment as lt \n",
    "\n",
    "\"\"\""
   ]
  },
  {
   "cell_type": "code",
   "execution_count": 4,
   "id": "3965faf2",
   "metadata": {},
   "outputs": [
    {
     "data": {
      "text/html": [
       "<div>\n",
       "<style scoped>\n",
       "    .dataframe tbody tr th:only-of-type {\n",
       "        vertical-align: middle;\n",
       "    }\n",
       "\n",
       "    .dataframe tbody tr th {\n",
       "        vertical-align: top;\n",
       "    }\n",
       "\n",
       "    .dataframe thead th {\n",
       "        text-align: right;\n",
       "    }\n",
       "</style>\n",
       "<table border=\"1\" class=\"dataframe\">\n",
       "  <thead>\n",
       "    <tr style=\"text-align: right;\">\n",
       "      <th></th>\n",
       "      <th>user_id</th>\n",
       "      <th>lt_day</th>\n",
       "      <th>is_new</th>\n",
       "      <th>age</th>\n",
       "      <th>gender_segment</th>\n",
       "      <th>os_name</th>\n",
       "      <th>cpe_type_name</th>\n",
       "      <th>country</th>\n",
       "      <th>city</th>\n",
       "      <th>age_segment</th>\n",
       "      <th>traffic_segment</th>\n",
       "      <th>lifetime_segment</th>\n",
       "      <th>nps_score</th>\n",
       "      <th>nps_group</th>\n",
       "      <th>is_new_old</th>\n",
       "    </tr>\n",
       "  </thead>\n",
       "  <tbody>\n",
       "    <tr>\n",
       "      <th>0</th>\n",
       "      <td>A001A2</td>\n",
       "      <td>2320</td>\n",
       "      <td>существующий</td>\n",
       "      <td>45.0</td>\n",
       "      <td>женщина</td>\n",
       "      <td>ANDROID</td>\n",
       "      <td>SMARTPHONE</td>\n",
       "      <td>Россия</td>\n",
       "      <td>Уфа</td>\n",
       "      <td>45-54</td>\n",
       "      <td>1-5</td>\n",
       "      <td>36+</td>\n",
       "      <td>10</td>\n",
       "      <td>cторонники</td>\n",
       "      <td>существующий</td>\n",
       "    </tr>\n",
       "    <tr>\n",
       "      <th>1</th>\n",
       "      <td>A001WF</td>\n",
       "      <td>2344</td>\n",
       "      <td>существующий</td>\n",
       "      <td>53.0</td>\n",
       "      <td>мужчина</td>\n",
       "      <td>ANDROID</td>\n",
       "      <td>SMARTPHONE</td>\n",
       "      <td>Россия</td>\n",
       "      <td>Киров</td>\n",
       "      <td>45-54</td>\n",
       "      <td>1-5</td>\n",
       "      <td>36+</td>\n",
       "      <td>10</td>\n",
       "      <td>cторонники</td>\n",
       "      <td>существующий</td>\n",
       "    </tr>\n",
       "    <tr>\n",
       "      <th>2</th>\n",
       "      <td>A003Q7</td>\n",
       "      <td>467</td>\n",
       "      <td>существующий</td>\n",
       "      <td>57.0</td>\n",
       "      <td>мужчина</td>\n",
       "      <td>ANDROID</td>\n",
       "      <td>SMARTPHONE</td>\n",
       "      <td>Россия</td>\n",
       "      <td>Москва</td>\n",
       "      <td>55-64</td>\n",
       "      <td>20-25</td>\n",
       "      <td>13-24</td>\n",
       "      <td>10</td>\n",
       "      <td>cторонники</td>\n",
       "      <td>существующий</td>\n",
       "    </tr>\n",
       "  </tbody>\n",
       "</table>\n",
       "</div>"
      ],
      "text/plain": [
       "  user_id  lt_day        is_new   age gender_segment  os_name cpe_type_name  \\\n",
       "0  A001A2    2320  существующий  45.0        женщина  ANDROID    SMARTPHONE   \n",
       "1  A001WF    2344  существующий  53.0        мужчина  ANDROID    SMARTPHONE   \n",
       "2  A003Q7     467  существующий  57.0        мужчина  ANDROID    SMARTPHONE   \n",
       "\n",
       "  country    city age_segment traffic_segment lifetime_segment  nps_score  \\\n",
       "0  Россия     Уфа       45-54             1-5              36+         10   \n",
       "1  Россия   Киров       45-54             1-5              36+         10   \n",
       "2  Россия  Москва       55-64           20-25            13-24         10   \n",
       "\n",
       "    nps_group    is_new_old  \n",
       "0  cторонники  существующий  \n",
       "1  cторонники  существующий  \n",
       "2  cторонники  существующий  "
      ]
     },
     "execution_count": 4,
     "metadata": {},
     "output_type": "execute_result"
    }
   ],
   "source": [
    "df = pd.read_sql(query, engine)\n",
    "df.head(3)"
   ]
  },
  {
   "cell_type": "code",
   "execution_count": 5,
   "id": "ecc0a4fb",
   "metadata": {},
   "outputs": [
    {
     "data": {
      "text/html": [
       "<div>\n",
       "<style scoped>\n",
       "    .dataframe tbody tr th:only-of-type {\n",
       "        vertical-align: middle;\n",
       "    }\n",
       "\n",
       "    .dataframe tbody tr th {\n",
       "        vertical-align: top;\n",
       "    }\n",
       "\n",
       "    .dataframe thead th {\n",
       "        text-align: right;\n",
       "    }\n",
       "</style>\n",
       "<table border=\"1\" class=\"dataframe\">\n",
       "  <thead>\n",
       "    <tr style=\"text-align: right;\">\n",
       "      <th></th>\n",
       "      <th>lt_day</th>\n",
       "      <th>is_new</th>\n",
       "    </tr>\n",
       "  </thead>\n",
       "  <tbody>\n",
       "    <tr>\n",
       "      <th>205</th>\n",
       "      <td>364</td>\n",
       "      <td>новый</td>\n",
       "    </tr>\n",
       "    <tr>\n",
       "      <th>352</th>\n",
       "      <td>366</td>\n",
       "      <td>существующий</td>\n",
       "    </tr>\n",
       "    <tr>\n",
       "      <th>1769</th>\n",
       "      <td>365</td>\n",
       "      <td>новый</td>\n",
       "    </tr>\n",
       "    <tr>\n",
       "      <th>1921</th>\n",
       "      <td>364</td>\n",
       "      <td>новый</td>\n",
       "    </tr>\n",
       "    <tr>\n",
       "      <th>3638</th>\n",
       "      <td>366</td>\n",
       "      <td>существующий</td>\n",
       "    </tr>\n",
       "  </tbody>\n",
       "</table>\n",
       "</div>"
      ],
      "text/plain": [
       "      lt_day        is_new\n",
       "205      364         новый\n",
       "352      366  существующий\n",
       "1769     365         новый\n",
       "1921     364         новый\n",
       "3638     366  существующий"
      ]
     },
     "execution_count": 5,
     "metadata": {},
     "output_type": "execute_result"
    }
   ],
   "source": [
    "# КОД РЕВЬЮЕРА\n",
    "\n",
    "df[df['lt_day'].isin([364, 365, 366])][['lt_day', 'is_new']].head()"
   ]
  },
  {
   "cell_type": "code",
   "execution_count": 6,
   "id": "f0d54524",
   "metadata": {},
   "outputs": [
    {
     "data": {
      "text/html": [
       "<div>\n",
       "<style scoped>\n",
       "    .dataframe tbody tr th:only-of-type {\n",
       "        vertical-align: middle;\n",
       "    }\n",
       "\n",
       "    .dataframe tbody tr th {\n",
       "        vertical-align: top;\n",
       "    }\n",
       "\n",
       "    .dataframe thead th {\n",
       "        text-align: right;\n",
       "    }\n",
       "</style>\n",
       "<table border=\"1\" class=\"dataframe\">\n",
       "  <thead>\n",
       "    <tr style=\"text-align: right;\">\n",
       "      <th></th>\n",
       "      <th>lt_day</th>\n",
       "      <th>is_new_old</th>\n",
       "    </tr>\n",
       "  </thead>\n",
       "  <tbody>\n",
       "    <tr>\n",
       "      <th>205</th>\n",
       "      <td>364</td>\n",
       "      <td>новый</td>\n",
       "    </tr>\n",
       "    <tr>\n",
       "      <th>352</th>\n",
       "      <td>366</td>\n",
       "      <td>существующий</td>\n",
       "    </tr>\n",
       "    <tr>\n",
       "      <th>1769</th>\n",
       "      <td>365</td>\n",
       "      <td>существующий</td>\n",
       "    </tr>\n",
       "    <tr>\n",
       "      <th>1921</th>\n",
       "      <td>364</td>\n",
       "      <td>новый</td>\n",
       "    </tr>\n",
       "    <tr>\n",
       "      <th>3638</th>\n",
       "      <td>366</td>\n",
       "      <td>существующий</td>\n",
       "    </tr>\n",
       "  </tbody>\n",
       "</table>\n",
       "</div>"
      ],
      "text/plain": [
       "      lt_day    is_new_old\n",
       "205      364         новый\n",
       "352      366  существующий\n",
       "1769     365  существующий\n",
       "1921     364         новый\n",
       "3638     366  существующий"
      ]
     },
     "execution_count": 6,
     "metadata": {},
     "output_type": "execute_result"
    }
   ],
   "source": [
    "# представление по предыдудущему варианту распределения на существующих и новых\n",
    "df[df['lt_day'].isin([364, 365, 366])][['lt_day', 'is_new_old']].head()"
   ]
  },
  {
   "cell_type": "code",
   "execution_count": 7,
   "id": "6f9bd76c",
   "metadata": {},
   "outputs": [
    {
     "data": {
      "text/plain": [
       "существующий    416393\n",
       "новый            86100\n",
       "Name: is_new, dtype: int64"
      ]
     },
     "metadata": {},
     "output_type": "display_data"
    },
    {
     "data": {
      "text/plain": [
       "существующий    83.0\n",
       "новый           17.0\n",
       "Name: is_new, dtype: float64"
      ]
     },
     "metadata": {},
     "output_type": "display_data"
    },
    {
     "data": {
      "text/plain": [
       "существующий    416619\n",
       "новый            85874\n",
       "Name: is_new_old, dtype: int64"
      ]
     },
     "metadata": {},
     "output_type": "display_data"
    },
    {
     "data": {
      "text/plain": [
       "существующий    83.0\n",
       "новый           17.0\n",
       "Name: is_new_old, dtype: float64"
      ]
     },
     "metadata": {},
     "output_type": "display_data"
    }
   ],
   "source": [
    "# код студента - проверка количества существующих и новых после корректировки <=365 дн.\n",
    "display(df['is_new'].value_counts())\n",
    "display((df['is_new'].value_counts('существующий')*100).round(0))\n",
    "\n",
    "display(df['is_new_old'].value_counts())\n",
    "display((df['is_new_old'].value_counts('существующий')*100).round(0))"
   ]
  },
  {
   "cell_type": "code",
   "execution_count": 8,
   "id": "9db04858",
   "metadata": {},
   "outputs": [],
   "source": [
    "df.to_csv('telecomm_csi_tableau.csv', index=False)"
   ]
  },
  {
   "cell_type": "code",
   "execution_count": 10,
   "id": "b22c5467",
   "metadata": {},
   "outputs": [],
   "source": [
    "df.to_csv(r'C:\\Users\\Vitte\\Downloads\\telecomm_csi_tableau.csv', index=False)"
   ]
  },
  {
   "cell_type": "code",
   "execution_count": 11,
   "id": "54cf2fca",
   "metadata": {},
   "outputs": [],
   "source": [
    "data = pd.read_csv('C:\\\\Users\\\\Vitte\\\\Downloads\\\\telecomm_csi_tableau.csv')"
   ]
  },
  {
   "cell_type": "code",
   "execution_count": 12,
   "id": "b958440c",
   "metadata": {},
   "outputs": [
    {
     "name": "stdout",
     "output_type": "stream",
     "text": [
      "<class 'pandas.core.frame.DataFrame'>\n",
      "RangeIndex: 502493 entries, 0 to 502492\n",
      "Data columns (total 15 columns):\n",
      " #   Column            Non-Null Count   Dtype  \n",
      "---  ------            --------------   -----  \n",
      " 0   user_id           502493 non-null  object \n",
      " 1   lt_day            502493 non-null  int64  \n",
      " 2   is_new            502493 non-null  object \n",
      " 3   age               501939 non-null  float64\n",
      " 4   gender_segment    502493 non-null  object \n",
      " 5   os_name           502493 non-null  object \n",
      " 6   cpe_type_name     502493 non-null  object \n",
      " 7   country           502493 non-null  object \n",
      " 8   city              502493 non-null  object \n",
      " 9   age_segment       502493 non-null  object \n",
      " 10  traffic_segment   502493 non-null  object \n",
      " 11  lifetime_segment  502493 non-null  object \n",
      " 12  nps_score         502493 non-null  int64  \n",
      " 13  nps_group         502493 non-null  object \n",
      " 14  is_new_old        502493 non-null  object \n",
      "dtypes: float64(1), int64(2), object(12)\n",
      "memory usage: 57.5+ MB\n"
     ]
    }
   ],
   "source": [
    "data.info()"
   ]
  },
  {
   "cell_type": "code",
   "execution_count": 13,
   "id": "5ac4f8fc",
   "metadata": {},
   "outputs": [
    {
     "data": {
      "text/plain": [
       "user_id               0\n",
       "lt_day                0\n",
       "is_new                0\n",
       "age                 554\n",
       "gender_segment        0\n",
       "os_name               0\n",
       "cpe_type_name         0\n",
       "country               0\n",
       "city                  0\n",
       "age_segment           0\n",
       "traffic_segment       0\n",
       "lifetime_segment      0\n",
       "nps_score             0\n",
       "nps_group             0\n",
       "is_new_old            0\n",
       "dtype: int64"
      ]
     },
     "execution_count": 13,
     "metadata": {},
     "output_type": "execute_result"
    }
   ],
   "source": [
    "data.isna().sum()"
   ]
  },
  {
   "cell_type": "code",
   "execution_count": 14,
   "id": "132dfe8c",
   "metadata": {},
   "outputs": [
    {
     "data": {
      "text/html": [
       "<div>\n",
       "<style scoped>\n",
       "    .dataframe tbody tr th:only-of-type {\n",
       "        vertical-align: middle;\n",
       "    }\n",
       "\n",
       "    .dataframe tbody tr th {\n",
       "        vertical-align: top;\n",
       "    }\n",
       "\n",
       "    .dataframe thead th {\n",
       "        text-align: right;\n",
       "    }\n",
       "</style>\n",
       "<table border=\"1\" class=\"dataframe\">\n",
       "  <thead>\n",
       "    <tr style=\"text-align: right;\">\n",
       "      <th></th>\n",
       "      <th>user_id</th>\n",
       "      <th>lt_day</th>\n",
       "      <th>is_new</th>\n",
       "      <th>age</th>\n",
       "      <th>gender_segment</th>\n",
       "      <th>os_name</th>\n",
       "      <th>cpe_type_name</th>\n",
       "      <th>country</th>\n",
       "      <th>city</th>\n",
       "      <th>age_segment</th>\n",
       "      <th>traffic_segment</th>\n",
       "      <th>lifetime_segment</th>\n",
       "      <th>nps_score</th>\n",
       "      <th>nps_group</th>\n",
       "      <th>is_new_old</th>\n",
       "    </tr>\n",
       "  </thead>\n",
       "  <tbody>\n",
       "    <tr>\n",
       "      <th>0</th>\n",
       "      <td>A001A2</td>\n",
       "      <td>2320</td>\n",
       "      <td>существующий</td>\n",
       "      <td>45.0</td>\n",
       "      <td>женщина</td>\n",
       "      <td>ANDROID</td>\n",
       "      <td>SMARTPHONE</td>\n",
       "      <td>Россия</td>\n",
       "      <td>Уфа</td>\n",
       "      <td>45-54</td>\n",
       "      <td>1-5</td>\n",
       "      <td>36+</td>\n",
       "      <td>10</td>\n",
       "      <td>cторонники</td>\n",
       "      <td>существующий</td>\n",
       "    </tr>\n",
       "    <tr>\n",
       "      <th>1</th>\n",
       "      <td>A001WF</td>\n",
       "      <td>2344</td>\n",
       "      <td>существующий</td>\n",
       "      <td>53.0</td>\n",
       "      <td>мужчина</td>\n",
       "      <td>ANDROID</td>\n",
       "      <td>SMARTPHONE</td>\n",
       "      <td>Россия</td>\n",
       "      <td>Киров</td>\n",
       "      <td>45-54</td>\n",
       "      <td>1-5</td>\n",
       "      <td>36+</td>\n",
       "      <td>10</td>\n",
       "      <td>cторонники</td>\n",
       "      <td>существующий</td>\n",
       "    </tr>\n",
       "    <tr>\n",
       "      <th>2</th>\n",
       "      <td>A003Q7</td>\n",
       "      <td>467</td>\n",
       "      <td>существующий</td>\n",
       "      <td>57.0</td>\n",
       "      <td>мужчина</td>\n",
       "      <td>ANDROID</td>\n",
       "      <td>SMARTPHONE</td>\n",
       "      <td>Россия</td>\n",
       "      <td>Москва</td>\n",
       "      <td>55-64</td>\n",
       "      <td>20-25</td>\n",
       "      <td>13-24</td>\n",
       "      <td>10</td>\n",
       "      <td>cторонники</td>\n",
       "      <td>существующий</td>\n",
       "    </tr>\n",
       "    <tr>\n",
       "      <th>3</th>\n",
       "      <td>A004TB</td>\n",
       "      <td>4190</td>\n",
       "      <td>существующий</td>\n",
       "      <td>44.0</td>\n",
       "      <td>женщина</td>\n",
       "      <td>IOS</td>\n",
       "      <td>SMARTPHONE</td>\n",
       "      <td>Россия</td>\n",
       "      <td>РостовнаДону</td>\n",
       "      <td>35-44</td>\n",
       "      <td>0.1-1</td>\n",
       "      <td>36+</td>\n",
       "      <td>10</td>\n",
       "      <td>cторонники</td>\n",
       "      <td>существующий</td>\n",
       "    </tr>\n",
       "    <tr>\n",
       "      <th>4</th>\n",
       "      <td>A004XT</td>\n",
       "      <td>1163</td>\n",
       "      <td>существующий</td>\n",
       "      <td>24.0</td>\n",
       "      <td>мужчина</td>\n",
       "      <td>ANDROID</td>\n",
       "      <td>SMARTPHONE</td>\n",
       "      <td>Россия</td>\n",
       "      <td>Рязань</td>\n",
       "      <td>16-24</td>\n",
       "      <td>5-10</td>\n",
       "      <td>36+</td>\n",
       "      <td>10</td>\n",
       "      <td>cторонники</td>\n",
       "      <td>существующий</td>\n",
       "    </tr>\n",
       "    <tr>\n",
       "      <th>...</th>\n",
       "      <td>...</td>\n",
       "      <td>...</td>\n",
       "      <td>...</td>\n",
       "      <td>...</td>\n",
       "      <td>...</td>\n",
       "      <td>...</td>\n",
       "      <td>...</td>\n",
       "      <td>...</td>\n",
       "      <td>...</td>\n",
       "      <td>...</td>\n",
       "      <td>...</td>\n",
       "      <td>...</td>\n",
       "      <td>...</td>\n",
       "      <td>...</td>\n",
       "      <td>...</td>\n",
       "    </tr>\n",
       "    <tr>\n",
       "      <th>502488</th>\n",
       "      <td>ZZZKLD</td>\n",
       "      <td>1249</td>\n",
       "      <td>существующий</td>\n",
       "      <td>54.0</td>\n",
       "      <td>женщина</td>\n",
       "      <td>ANDROID</td>\n",
       "      <td>SMARTPHONE</td>\n",
       "      <td>Россия</td>\n",
       "      <td>Москва</td>\n",
       "      <td>45-54</td>\n",
       "      <td>1-5</td>\n",
       "      <td>36+</td>\n",
       "      <td>5</td>\n",
       "      <td>критики</td>\n",
       "      <td>существующий</td>\n",
       "    </tr>\n",
       "    <tr>\n",
       "      <th>502489</th>\n",
       "      <td>ZZZLWY</td>\n",
       "      <td>129</td>\n",
       "      <td>новый</td>\n",
       "      <td>31.0</td>\n",
       "      <td>мужчина</td>\n",
       "      <td>ANDROID</td>\n",
       "      <td>SMARTPHONE</td>\n",
       "      <td>Россия</td>\n",
       "      <td>Москва</td>\n",
       "      <td>25-34</td>\n",
       "      <td>1-5</td>\n",
       "      <td>4-6</td>\n",
       "      <td>8</td>\n",
       "      <td>нейтралы</td>\n",
       "      <td>новый</td>\n",
       "    </tr>\n",
       "    <tr>\n",
       "      <th>502490</th>\n",
       "      <td>ZZZQ5F</td>\n",
       "      <td>522</td>\n",
       "      <td>существующий</td>\n",
       "      <td>36.0</td>\n",
       "      <td>мужчина</td>\n",
       "      <td>ANDROID</td>\n",
       "      <td>SMARTPHONE</td>\n",
       "      <td>Россия</td>\n",
       "      <td>Сургут</td>\n",
       "      <td>35-44</td>\n",
       "      <td>25-30</td>\n",
       "      <td>13-24</td>\n",
       "      <td>10</td>\n",
       "      <td>cторонники</td>\n",
       "      <td>существующий</td>\n",
       "    </tr>\n",
       "    <tr>\n",
       "      <th>502491</th>\n",
       "      <td>ZZZQ8E</td>\n",
       "      <td>2936</td>\n",
       "      <td>существующий</td>\n",
       "      <td>37.0</td>\n",
       "      <td>женщина</td>\n",
       "      <td>ANDROID</td>\n",
       "      <td>SMARTPHONE</td>\n",
       "      <td>Россия</td>\n",
       "      <td>УланУдэ</td>\n",
       "      <td>35-44</td>\n",
       "      <td>65-70</td>\n",
       "      <td>36+</td>\n",
       "      <td>9</td>\n",
       "      <td>cторонники</td>\n",
       "      <td>существующий</td>\n",
       "    </tr>\n",
       "    <tr>\n",
       "      <th>502492</th>\n",
       "      <td>ZZZYH0</td>\n",
       "      <td>2471</td>\n",
       "      <td>существующий</td>\n",
       "      <td>37.0</td>\n",
       "      <td>мужчина</td>\n",
       "      <td>IOS</td>\n",
       "      <td>SMARTPHONE</td>\n",
       "      <td>Россия</td>\n",
       "      <td>Самара</td>\n",
       "      <td>35-44</td>\n",
       "      <td>10-15</td>\n",
       "      <td>36+</td>\n",
       "      <td>2</td>\n",
       "      <td>критики</td>\n",
       "      <td>существующий</td>\n",
       "    </tr>\n",
       "  </tbody>\n",
       "</table>\n",
       "<p>502493 rows × 15 columns</p>\n",
       "</div>"
      ],
      "text/plain": [
       "       user_id  lt_day        is_new   age gender_segment  os_name  \\\n",
       "0       A001A2    2320  существующий  45.0        женщина  ANDROID   \n",
       "1       A001WF    2344  существующий  53.0        мужчина  ANDROID   \n",
       "2       A003Q7     467  существующий  57.0        мужчина  ANDROID   \n",
       "3       A004TB    4190  существующий  44.0        женщина      IOS   \n",
       "4       A004XT    1163  существующий  24.0        мужчина  ANDROID   \n",
       "...        ...     ...           ...   ...            ...      ...   \n",
       "502488  ZZZKLD    1249  существующий  54.0        женщина  ANDROID   \n",
       "502489  ZZZLWY     129         новый  31.0        мужчина  ANDROID   \n",
       "502490  ZZZQ5F     522  существующий  36.0        мужчина  ANDROID   \n",
       "502491  ZZZQ8E    2936  существующий  37.0        женщина  ANDROID   \n",
       "502492  ZZZYH0    2471  существующий  37.0        мужчина      IOS   \n",
       "\n",
       "       cpe_type_name country          city age_segment traffic_segment  \\\n",
       "0         SMARTPHONE  Россия           Уфа       45-54             1-5   \n",
       "1         SMARTPHONE  Россия         Киров       45-54             1-5   \n",
       "2         SMARTPHONE  Россия        Москва       55-64           20-25   \n",
       "3         SMARTPHONE  Россия  РостовнаДону       35-44           0.1-1   \n",
       "4         SMARTPHONE  Россия        Рязань       16-24            5-10   \n",
       "...              ...     ...           ...         ...             ...   \n",
       "502488    SMARTPHONE  Россия        Москва       45-54             1-5   \n",
       "502489    SMARTPHONE  Россия        Москва       25-34             1-5   \n",
       "502490    SMARTPHONE  Россия        Сургут       35-44           25-30   \n",
       "502491    SMARTPHONE  Россия       УланУдэ       35-44           65-70   \n",
       "502492    SMARTPHONE  Россия        Самара       35-44           10-15   \n",
       "\n",
       "       lifetime_segment  nps_score   nps_group    is_new_old  \n",
       "0                   36+         10  cторонники  существующий  \n",
       "1                   36+         10  cторонники  существующий  \n",
       "2                 13-24         10  cторонники  существующий  \n",
       "3                   36+         10  cторонники  существующий  \n",
       "4                   36+         10  cторонники  существующий  \n",
       "...                 ...        ...         ...           ...  \n",
       "502488              36+          5     критики  существующий  \n",
       "502489              4-6          8    нейтралы         новый  \n",
       "502490            13-24         10  cторонники  существующий  \n",
       "502491              36+          9  cторонники  существующий  \n",
       "502492              36+          2     критики  существующий  \n",
       "\n",
       "[502493 rows x 15 columns]"
      ]
     },
     "metadata": {},
     "output_type": "display_data"
    }
   ],
   "source": [
    "display(data)"
   ]
  },
  {
   "cell_type": "markdown",
   "id": "55c4caaa",
   "metadata": {},
   "source": [
    "пропусков в категориях age и gender_segment от общего количества не велико и не превышает 0,5% В фильтре сразу можно tableau исключить пропуски в этих категориях"
   ]
  },
  {
   "cell_type": "markdown",
   "id": "7efe5f5d",
   "metadata": {},
   "source": [
    "ссылка на презентацию: https://public.tableau.com/views/Project_2_17248650277430/sheet14?:language=en-US&publish=yes&:sid=&:redirect=auth&:display_count=n&:origin=viz_share_link"
   ]
  }
 ],
 "metadata": {
  "ExecuteTimeLog": [
   {
    "duration": 518,
    "start_time": "2024-08-26T17:03:40.895Z"
   },
   {
    "duration": 74,
    "start_time": "2024-08-26T17:03:41.607Z"
   },
   {
    "duration": 2,
    "start_time": "2024-08-26T17:03:42.394Z"
   },
   {
    "duration": 735,
    "start_time": "2024-08-26T17:03:47.491Z"
   },
   {
    "duration": 9,
    "start_time": "2024-08-26T17:03:48.608Z"
   },
   {
    "duration": 529,
    "start_time": "2024-08-26T17:04:35.984Z"
   },
   {
    "duration": 54,
    "start_time": "2024-08-26T17:04:36.515Z"
   },
   {
    "duration": 2,
    "start_time": "2024-08-26T17:04:36.572Z"
   },
   {
    "duration": 680,
    "start_time": "2024-08-26T17:04:36.576Z"
   },
   {
    "duration": 0,
    "start_time": "2024-08-26T17:04:37.258Z"
   },
   {
    "duration": 3,
    "start_time": "2024-08-26T17:05:44.468Z"
   },
   {
    "duration": 3823,
    "start_time": "2024-08-26T17:05:45.725Z"
   },
   {
    "duration": 2738,
    "start_time": "2024-08-26T17:05:51.659Z"
   },
   {
    "duration": 2,
    "start_time": "2024-08-26T17:17:49.152Z"
   },
   {
    "duration": 4594,
    "start_time": "2024-08-26T17:17:50.223Z"
   },
   {
    "duration": 3,
    "start_time": "2024-08-26T17:28:51.759Z"
   },
   {
    "duration": 631,
    "start_time": "2024-08-26T17:28:54.141Z"
   },
   {
    "duration": 3,
    "start_time": "2024-08-26T17:29:15.950Z"
   },
   {
    "duration": 622,
    "start_time": "2024-08-26T17:29:16.758Z"
   },
   {
    "duration": 2,
    "start_time": "2024-08-26T17:30:00.408Z"
   },
   {
    "duration": 619,
    "start_time": "2024-08-26T17:30:01.635Z"
   },
   {
    "duration": 3,
    "start_time": "2024-08-26T17:30:16.076Z"
   },
   {
    "duration": 3044,
    "start_time": "2024-08-26T17:30:16.740Z"
   },
   {
    "duration": 2,
    "start_time": "2024-08-26T17:30:54.025Z"
   },
   {
    "duration": 3500,
    "start_time": "2024-08-26T17:30:54.508Z"
   },
   {
    "duration": 3,
    "start_time": "2024-08-26T17:38:00.453Z"
   },
   {
    "duration": 653,
    "start_time": "2024-08-26T17:38:01.335Z"
   },
   {
    "duration": 3,
    "start_time": "2024-08-26T17:39:20.718Z"
   },
   {
    "duration": 4531,
    "start_time": "2024-08-26T17:39:21.274Z"
   },
   {
    "duration": 3,
    "start_time": "2024-08-26T17:43:40.311Z"
   },
   {
    "duration": 4551,
    "start_time": "2024-08-26T17:43:41.061Z"
   },
   {
    "duration": 3,
    "start_time": "2024-08-26T17:44:54.303Z"
   },
   {
    "duration": 5424,
    "start_time": "2024-08-26T17:44:59.791Z"
   },
   {
    "duration": 4,
    "start_time": "2024-08-26T17:49:48.171Z"
   },
   {
    "duration": 521,
    "start_time": "2024-08-26T17:49:48.954Z"
   },
   {
    "duration": 3,
    "start_time": "2024-08-26T17:53:47.496Z"
   },
   {
    "duration": 375,
    "start_time": "2024-08-26T17:53:48.475Z"
   },
   {
    "duration": 3,
    "start_time": "2024-08-26T17:55:08.627Z"
   },
   {
    "duration": 662,
    "start_time": "2024-08-26T17:55:09.328Z"
   },
   {
    "duration": 4,
    "start_time": "2024-08-26T17:56:00.014Z"
   },
   {
    "duration": 5144,
    "start_time": "2024-08-26T17:56:00.607Z"
   },
   {
    "duration": 3,
    "start_time": "2024-08-26T17:56:29.371Z"
   },
   {
    "duration": 5328,
    "start_time": "2024-08-26T17:56:29.701Z"
   },
   {
    "duration": 4,
    "start_time": "2024-08-26T17:57:05.300Z"
   },
   {
    "duration": 5061,
    "start_time": "2024-08-26T17:57:05.685Z"
   },
   {
    "duration": 3,
    "start_time": "2024-08-26T17:59:20.192Z"
   },
   {
    "duration": 3966,
    "start_time": "2024-08-26T17:59:25.149Z"
   },
   {
    "duration": 3,
    "start_time": "2024-08-26T17:59:39.617Z"
   },
   {
    "duration": 4289,
    "start_time": "2024-08-26T17:59:40.139Z"
   },
   {
    "duration": 3,
    "start_time": "2024-08-26T18:00:35.830Z"
   },
   {
    "duration": 4075,
    "start_time": "2024-08-26T18:00:40.838Z"
   },
   {
    "duration": 542,
    "start_time": "2024-08-26T18:01:55.679Z"
   },
   {
    "duration": 67,
    "start_time": "2024-08-26T18:01:56.223Z"
   },
   {
    "duration": 3,
    "start_time": "2024-08-26T18:01:56.291Z"
   },
   {
    "duration": 4215,
    "start_time": "2024-08-26T18:01:56.296Z"
   },
   {
    "duration": 3243,
    "start_time": "2024-08-26T18:02:00.512Z"
   },
   {
    "duration": 2,
    "start_time": "2024-08-26T18:04:31.697Z"
   },
   {
    "duration": 412,
    "start_time": "2024-08-26T18:04:32.714Z"
   },
   {
    "duration": 4,
    "start_time": "2024-08-26T18:07:10.428Z"
   },
   {
    "duration": 5088,
    "start_time": "2024-08-26T18:07:11.666Z"
   },
   {
    "duration": 3,
    "start_time": "2024-08-26T18:08:04.497Z"
   },
   {
    "duration": 4044,
    "start_time": "2024-08-26T18:08:05.935Z"
   },
   {
    "duration": 3,
    "start_time": "2024-08-26T18:08:27.603Z"
   },
   {
    "duration": 4150,
    "start_time": "2024-08-26T18:08:28.739Z"
   },
   {
    "duration": 73,
    "start_time": "2024-08-26T18:09:24.551Z"
   },
   {
    "duration": 3908,
    "start_time": "2024-08-26T18:09:25.308Z"
   },
   {
    "duration": 3,
    "start_time": "2024-08-26T18:09:31.319Z"
   },
   {
    "duration": 5023,
    "start_time": "2024-08-26T18:09:31.681Z"
   },
   {
    "duration": 3,
    "start_time": "2024-08-26T18:15:18.248Z"
   },
   {
    "duration": 426,
    "start_time": "2024-08-26T18:15:20.403Z"
   },
   {
    "duration": 3,
    "start_time": "2024-08-26T18:15:30.707Z"
   },
   {
    "duration": 4170,
    "start_time": "2024-08-26T18:15:32.691Z"
   },
   {
    "duration": 70,
    "start_time": "2024-08-26T18:16:49.454Z"
   },
   {
    "duration": 4,
    "start_time": "2024-08-26T18:17:01.132Z"
   },
   {
    "duration": 615,
    "start_time": "2024-08-26T18:17:01.868Z"
   },
   {
    "duration": 4,
    "start_time": "2024-08-26T18:17:39.726Z"
   },
   {
    "duration": 5229,
    "start_time": "2024-08-26T18:17:40.259Z"
   },
   {
    "duration": 4832,
    "start_time": "2024-08-26T18:17:59.213Z"
   },
   {
    "duration": 4978,
    "start_time": "2024-08-26T18:23:13.984Z"
   },
   {
    "duration": 4670,
    "start_time": "2024-08-26T18:23:24.685Z"
   },
   {
    "duration": 5118,
    "start_time": "2024-08-26T18:23:29.358Z"
   },
   {
    "duration": 5268,
    "start_time": "2024-08-26T18:24:33.326Z"
   },
   {
    "duration": 4649,
    "start_time": "2024-08-26T18:24:38.596Z"
   },
   {
    "duration": 5039,
    "start_time": "2024-08-26T18:24:43.247Z"
   },
   {
    "duration": 4653,
    "start_time": "2024-08-26T18:25:48.826Z"
   },
   {
    "duration": 3,
    "start_time": "2024-08-26T18:28:55.555Z"
   },
   {
    "duration": 72,
    "start_time": "2024-08-26T18:28:55.560Z"
   },
   {
    "duration": 2,
    "start_time": "2024-08-26T18:28:55.634Z"
   },
   {
    "duration": 5681,
    "start_time": "2024-08-26T18:28:55.638Z"
   },
   {
    "duration": 4844,
    "start_time": "2024-08-26T18:29:01.321Z"
   },
   {
    "duration": 4827,
    "start_time": "2024-08-26T18:29:06.167Z"
   },
   {
    "duration": 3,
    "start_time": "2024-08-26T18:31:27.953Z"
   },
   {
    "duration": 4873,
    "start_time": "2024-08-26T18:31:28.665Z"
   },
   {
    "duration": 4959,
    "start_time": "2024-08-26T18:33:14.731Z"
   },
   {
    "duration": 83,
    "start_time": "2024-08-26T18:40:35.857Z"
   },
   {
    "duration": 4832,
    "start_time": "2024-08-26T18:40:49.265Z"
   },
   {
    "duration": 5009,
    "start_time": "2024-08-26T18:42:31.203Z"
   },
   {
    "duration": 578,
    "start_time": "2024-08-26T18:47:34.362Z"
   },
   {
    "duration": 57,
    "start_time": "2024-08-26T18:47:34.943Z"
   },
   {
    "duration": 3,
    "start_time": "2024-08-26T18:47:35.002Z"
   },
   {
    "duration": 5507,
    "start_time": "2024-08-26T18:47:35.007Z"
   },
   {
    "duration": 2,
    "start_time": "2024-08-26T18:47:40.516Z"
   },
   {
    "duration": 3,
    "start_time": "2024-08-26T18:47:40.520Z"
   },
   {
    "duration": 4775,
    "start_time": "2024-08-26T18:47:40.525Z"
   },
   {
    "duration": 4736,
    "start_time": "2024-08-26T18:49:22.499Z"
   },
   {
    "duration": 180,
    "start_time": "2024-08-26T19:17:28.698Z"
   },
   {
    "duration": 64,
    "start_time": "2024-08-26T19:18:02.103Z"
   },
   {
    "duration": 71,
    "start_time": "2024-08-26T19:18:14.620Z"
   },
   {
    "duration": 5361,
    "start_time": "2024-08-26T19:19:28.175Z"
   },
   {
    "duration": 5557,
    "start_time": "2024-08-26T19:19:57.635Z"
   },
   {
    "duration": 5851,
    "start_time": "2024-08-26T19:20:03.194Z"
   },
   {
    "duration": 74,
    "start_time": "2024-08-26T19:21:04.340Z"
   },
   {
    "duration": 70,
    "start_time": "2024-08-26T19:21:30.557Z"
   },
   {
    "duration": 2,
    "start_time": "2024-08-26T19:24:59.493Z"
   },
   {
    "duration": 5007,
    "start_time": "2024-08-26T19:24:59.783Z"
   },
   {
    "duration": 4892,
    "start_time": "2024-08-26T19:25:04.792Z"
   },
   {
    "duration": 630,
    "start_time": "2024-08-27T03:41:39.113Z"
   },
   {
    "duration": 65,
    "start_time": "2024-08-27T03:41:39.746Z"
   },
   {
    "duration": 4,
    "start_time": "2024-08-27T03:41:39.813Z"
   },
   {
    "duration": 6446,
    "start_time": "2024-08-27T03:41:39.820Z"
   },
   {
    "duration": 3,
    "start_time": "2024-08-27T03:41:46.268Z"
   },
   {
    "duration": 6,
    "start_time": "2024-08-27T03:41:46.273Z"
   },
   {
    "duration": 4993,
    "start_time": "2024-08-27T03:41:46.280Z"
   },
   {
    "duration": 5411,
    "start_time": "2024-08-27T03:42:36.097Z"
   },
   {
    "duration": 5265,
    "start_time": "2024-08-27T03:43:24.588Z"
   },
   {
    "duration": 3,
    "start_time": "2024-08-27T03:45:05.096Z"
   },
   {
    "duration": 66,
    "start_time": "2024-08-27T03:45:05.101Z"
   },
   {
    "duration": 4,
    "start_time": "2024-08-27T03:45:05.169Z"
   },
   {
    "duration": 6347,
    "start_time": "2024-08-27T03:45:05.175Z"
   },
   {
    "duration": 3,
    "start_time": "2024-08-27T03:45:11.524Z"
   },
   {
    "duration": 18,
    "start_time": "2024-08-27T03:45:11.528Z"
   },
   {
    "duration": 5474,
    "start_time": "2024-08-27T03:45:11.547Z"
   },
   {
    "duration": 5643,
    "start_time": "2024-08-27T03:45:17.022Z"
   },
   {
    "duration": 556,
    "start_time": "2024-08-27T03:46:20.910Z"
   },
   {
    "duration": 55,
    "start_time": "2024-08-27T03:46:21.468Z"
   },
   {
    "duration": 4,
    "start_time": "2024-08-27T03:46:21.524Z"
   },
   {
    "duration": 5932,
    "start_time": "2024-08-27T03:46:21.529Z"
   },
   {
    "duration": 3,
    "start_time": "2024-08-27T03:46:27.463Z"
   },
   {
    "duration": 12,
    "start_time": "2024-08-27T03:46:27.468Z"
   },
   {
    "duration": 5465,
    "start_time": "2024-08-27T03:46:27.481Z"
   },
   {
    "duration": 5617,
    "start_time": "2024-08-27T03:46:32.948Z"
   },
   {
    "duration": 11079,
    "start_time": "2024-08-27T03:48:03.903Z"
   },
   {
    "duration": 4,
    "start_time": "2024-08-27T03:48:56.669Z"
   },
   {
    "duration": 57,
    "start_time": "2024-08-27T03:48:56.675Z"
   },
   {
    "duration": 3,
    "start_time": "2024-08-27T03:48:56.734Z"
   },
   {
    "duration": 6106,
    "start_time": "2024-08-27T03:48:56.740Z"
   },
   {
    "duration": 7,
    "start_time": "2024-08-27T03:49:02.848Z"
   },
   {
    "duration": 3,
    "start_time": "2024-08-27T03:49:02.857Z"
   },
   {
    "duration": 11442,
    "start_time": "2024-08-27T03:49:02.862Z"
   },
   {
    "duration": 513,
    "start_time": "2024-08-28T16:57:16.901Z"
   },
   {
    "duration": 76,
    "start_time": "2024-08-28T16:57:17.416Z"
   },
   {
    "duration": 3,
    "start_time": "2024-08-28T16:57:17.493Z"
   },
   {
    "duration": 5658,
    "start_time": "2024-08-28T16:57:17.498Z"
   },
   {
    "duration": 2,
    "start_time": "2024-08-28T16:57:23.157Z"
   },
   {
    "duration": 20,
    "start_time": "2024-08-28T16:57:23.161Z"
   },
   {
    "duration": 9043,
    "start_time": "2024-08-28T16:57:23.183Z"
   },
   {
    "duration": 1609,
    "start_time": "2024-08-28T17:02:15.243Z"
   },
   {
    "duration": 227,
    "start_time": "2024-08-28T17:02:25.786Z"
   },
   {
    "duration": 209,
    "start_time": "2024-08-28T17:03:15.851Z"
   },
   {
    "duration": 1658,
    "start_time": "2024-08-28T17:13:26.098Z"
   },
   {
    "duration": 225,
    "start_time": "2024-08-28T17:13:27.757Z"
   },
   {
    "duration": 215,
    "start_time": "2024-08-28T17:13:30.260Z"
   },
   {
    "duration": 18,
    "start_time": "2024-08-28T17:13:46.658Z"
   },
   {
    "duration": 2,
    "start_time": "2024-08-28T17:22:42.696Z"
   },
   {
    "duration": 72,
    "start_time": "2024-08-28T17:22:42.700Z"
   },
   {
    "duration": 3,
    "start_time": "2024-08-28T17:22:42.774Z"
   },
   {
    "duration": 735,
    "start_time": "2024-08-28T17:22:42.779Z"
   },
   {
    "duration": 0,
    "start_time": "2024-08-28T17:22:43.516Z"
   },
   {
    "duration": 0,
    "start_time": "2024-08-28T17:22:43.517Z"
   },
   {
    "duration": 0,
    "start_time": "2024-08-28T17:22:43.518Z"
   },
   {
    "duration": 0,
    "start_time": "2024-08-28T17:22:43.519Z"
   },
   {
    "duration": 0,
    "start_time": "2024-08-28T17:22:43.520Z"
   },
   {
    "duration": 0,
    "start_time": "2024-08-28T17:22:43.522Z"
   },
   {
    "duration": 0,
    "start_time": "2024-08-28T17:22:43.523Z"
   },
   {
    "duration": 3,
    "start_time": "2024-08-28T17:23:30.526Z"
   },
   {
    "duration": 5051,
    "start_time": "2024-08-28T17:23:32.139Z"
   },
   {
    "duration": 2,
    "start_time": "2024-08-28T17:23:37.192Z"
   },
   {
    "duration": 4,
    "start_time": "2024-08-28T17:30:28.126Z"
   },
   {
    "duration": 405,
    "start_time": "2024-08-28T17:30:29.441Z"
   },
   {
    "duration": 3,
    "start_time": "2024-08-28T17:30:42.127Z"
   },
   {
    "duration": 389,
    "start_time": "2024-08-28T17:30:43.848Z"
   },
   {
    "duration": 4,
    "start_time": "2024-08-28T17:33:00.082Z"
   },
   {
    "duration": 423,
    "start_time": "2024-08-28T17:33:01.269Z"
   },
   {
    "duration": 3,
    "start_time": "2024-08-28T17:34:20.801Z"
   },
   {
    "duration": 419,
    "start_time": "2024-08-28T17:34:22.051Z"
   },
   {
    "duration": 3,
    "start_time": "2024-08-28T17:35:48.975Z"
   },
   {
    "duration": 5363,
    "start_time": "2024-08-28T17:35:49.787Z"
   },
   {
    "duration": 2,
    "start_time": "2024-08-28T17:35:55.152Z"
   },
   {
    "duration": 8,
    "start_time": "2024-08-28T17:35:55.155Z"
   },
   {
    "duration": 5,
    "start_time": "2024-08-28T17:35:55.164Z"
   },
   {
    "duration": 4392,
    "start_time": "2024-08-28T17:36:09.559Z"
   },
   {
    "duration": 1568,
    "start_time": "2024-08-28T17:36:15.163Z"
   },
   {
    "duration": 227,
    "start_time": "2024-08-28T17:36:16.733Z"
   },
   {
    "duration": 214,
    "start_time": "2024-08-28T17:36:20.395Z"
   },
   {
    "duration": 19,
    "start_time": "2024-08-28T17:36:21.677Z"
   },
   {
    "duration": 503,
    "start_time": "2024-09-02T14:50:45.764Z"
   },
   {
    "duration": 70,
    "start_time": "2024-09-02T14:50:46.269Z"
   },
   {
    "duration": 4,
    "start_time": "2024-09-02T14:50:46.341Z"
   },
   {
    "duration": 5792,
    "start_time": "2024-09-02T14:50:46.347Z"
   },
   {
    "duration": 5028,
    "start_time": "2024-09-02T14:50:52.140Z"
   },
   {
    "duration": 2,
    "start_time": "2024-09-02T14:50:57.170Z"
   },
   {
    "duration": 11642,
    "start_time": "2024-09-02T14:50:57.173Z"
   },
   {
    "duration": 2020,
    "start_time": "2024-09-02T14:51:08.817Z"
   },
   {
    "duration": 261,
    "start_time": "2024-09-02T14:51:10.838Z"
   },
   {
    "duration": 257,
    "start_time": "2024-09-02T14:51:11.101Z"
   },
   {
    "duration": 21,
    "start_time": "2024-09-02T14:51:11.359Z"
   },
   {
    "duration": 5839,
    "start_time": "2024-09-02T14:54:58.136Z"
   },
   {
    "duration": 3,
    "start_time": "2024-09-02T14:55:03.978Z"
   },
   {
    "duration": 538,
    "start_time": "2024-09-02T15:07:00.041Z"
   },
   {
    "duration": 35,
    "start_time": "2024-09-02T15:07:00.581Z"
   },
   {
    "duration": 5,
    "start_time": "2024-09-02T15:07:00.618Z"
   },
   {
    "duration": 6861,
    "start_time": "2024-09-02T15:07:00.625Z"
   },
   {
    "duration": 4677,
    "start_time": "2024-09-02T15:07:07.488Z"
   },
   {
    "duration": 2,
    "start_time": "2024-09-02T15:07:12.166Z"
   },
   {
    "duration": 4769,
    "start_time": "2024-09-02T15:07:12.170Z"
   },
   {
    "duration": 1955,
    "start_time": "2024-09-02T15:07:16.941Z"
   },
   {
    "duration": 245,
    "start_time": "2024-09-02T15:07:18.897Z"
   },
   {
    "duration": 242,
    "start_time": "2024-09-02T15:07:19.143Z"
   },
   {
    "duration": 30,
    "start_time": "2024-09-02T15:07:19.386Z"
   },
   {
    "duration": 689,
    "start_time": "2024-09-02T15:07:29.476Z"
   },
   {
    "duration": 503,
    "start_time": "2024-09-02T16:24:52.316Z"
   },
   {
    "duration": 10,
    "start_time": "2024-09-02T16:24:52.821Z"
   },
   {
    "duration": 37,
    "start_time": "2024-09-02T16:24:52.833Z"
   },
   {
    "duration": 6105,
    "start_time": "2024-09-02T16:24:52.872Z"
   },
   {
    "duration": 4755,
    "start_time": "2024-09-02T16:24:58.979Z"
   },
   {
    "duration": 2,
    "start_time": "2024-09-02T16:25:03.736Z"
   },
   {
    "duration": 5281,
    "start_time": "2024-09-02T16:25:03.739Z"
   },
   {
    "duration": 2041,
    "start_time": "2024-09-02T16:25:09.022Z"
   },
   {
    "duration": 288,
    "start_time": "2024-09-02T16:25:11.065Z"
   },
   {
    "duration": 233,
    "start_time": "2024-09-02T16:25:11.355Z"
   },
   {
    "duration": 28,
    "start_time": "2024-09-02T16:25:11.589Z"
   },
   {
    "duration": 480,
    "start_time": "2024-09-02T17:25:00.957Z"
   },
   {
    "duration": 74,
    "start_time": "2024-09-02T17:25:01.439Z"
   },
   {
    "duration": 3,
    "start_time": "2024-09-02T17:25:01.515Z"
   },
   {
    "duration": 499,
    "start_time": "2024-09-02T17:25:01.520Z"
   },
   {
    "duration": 0,
    "start_time": "2024-09-02T17:25:02.022Z"
   },
   {
    "duration": 0,
    "start_time": "2024-09-02T17:25:02.023Z"
   },
   {
    "duration": 0,
    "start_time": "2024-09-02T17:25:02.025Z"
   },
   {
    "duration": 0,
    "start_time": "2024-09-02T17:25:02.026Z"
   },
   {
    "duration": 0,
    "start_time": "2024-09-02T17:25:02.027Z"
   },
   {
    "duration": 0,
    "start_time": "2024-09-02T17:25:02.029Z"
   },
   {
    "duration": 0,
    "start_time": "2024-09-02T17:25:02.030Z"
   },
   {
    "duration": 3,
    "start_time": "2024-09-02T17:43:25.529Z"
   },
   {
    "duration": 680,
    "start_time": "2024-09-02T17:43:26.518Z"
   },
   {
    "duration": 7,
    "start_time": "2024-09-02T17:43:27.342Z"
   },
   {
    "duration": 2,
    "start_time": "2024-09-02T17:43:27.671Z"
   },
   {
    "duration": 7,
    "start_time": "2024-09-02T17:43:27.864Z"
   },
   {
    "duration": 3,
    "start_time": "2024-09-02T17:43:40.020Z"
   },
   {
    "duration": 71,
    "start_time": "2024-09-02T17:43:40.025Z"
   },
   {
    "duration": 3,
    "start_time": "2024-09-02T17:43:40.098Z"
   },
   {
    "duration": 657,
    "start_time": "2024-09-02T17:43:40.102Z"
   },
   {
    "duration": 0,
    "start_time": "2024-09-02T17:43:40.761Z"
   },
   {
    "duration": 0,
    "start_time": "2024-09-02T17:43:40.763Z"
   },
   {
    "duration": 0,
    "start_time": "2024-09-02T17:43:40.764Z"
   },
   {
    "duration": 0,
    "start_time": "2024-09-02T17:43:40.766Z"
   },
   {
    "duration": 1,
    "start_time": "2024-09-02T17:43:40.766Z"
   },
   {
    "duration": 0,
    "start_time": "2024-09-02T17:43:40.768Z"
   },
   {
    "duration": 0,
    "start_time": "2024-09-02T17:43:40.769Z"
   },
   {
    "duration": 3,
    "start_time": "2024-09-02T17:45:22.767Z"
   },
   {
    "duration": 672,
    "start_time": "2024-09-02T17:45:27.285Z"
   },
   {
    "duration": 3,
    "start_time": "2024-09-02T17:49:16.282Z"
   },
   {
    "duration": 5521,
    "start_time": "2024-09-02T17:49:19.582Z"
   },
   {
    "duration": 4540,
    "start_time": "2024-09-02T17:49:34.450Z"
   },
   {
    "duration": 3,
    "start_time": "2024-09-02T17:49:38.991Z"
   },
   {
    "duration": 4401,
    "start_time": "2024-09-02T17:49:38.995Z"
   },
   {
    "duration": 1730,
    "start_time": "2024-09-02T17:49:43.397Z"
   },
   {
    "duration": 227,
    "start_time": "2024-09-02T17:49:45.129Z"
   },
   {
    "duration": 220,
    "start_time": "2024-09-02T17:49:45.357Z"
   },
   {
    "duration": 20,
    "start_time": "2024-09-02T17:49:45.579Z"
   },
   {
    "duration": 2,
    "start_time": "2024-09-02T17:53:41.117Z"
   },
   {
    "duration": 93,
    "start_time": "2024-09-02T17:53:41.121Z"
   },
   {
    "duration": 3,
    "start_time": "2024-09-02T17:53:41.216Z"
   },
   {
    "duration": 5156,
    "start_time": "2024-09-02T17:53:41.220Z"
   },
   {
    "duration": 4605,
    "start_time": "2024-09-02T17:53:46.378Z"
   },
   {
    "duration": 2,
    "start_time": "2024-09-02T17:53:50.985Z"
   },
   {
    "duration": 4703,
    "start_time": "2024-09-02T17:53:50.989Z"
   },
   {
    "duration": 1745,
    "start_time": "2024-09-02T17:53:55.694Z"
   },
   {
    "duration": 220,
    "start_time": "2024-09-02T17:53:57.441Z"
   },
   {
    "duration": 226,
    "start_time": "2024-09-02T17:53:57.662Z"
   },
   {
    "duration": 20,
    "start_time": "2024-09-02T17:53:57.890Z"
   },
   {
    "duration": 558,
    "start_time": "2024-09-03T05:53:30.451Z"
   },
   {
    "duration": 76,
    "start_time": "2024-09-03T05:53:31.011Z"
   },
   {
    "duration": 3,
    "start_time": "2024-09-03T05:53:31.089Z"
   },
   {
    "duration": 6184,
    "start_time": "2024-09-03T05:53:31.094Z"
   },
   {
    "duration": 5349,
    "start_time": "2024-09-03T05:53:37.281Z"
   },
   {
    "duration": 3,
    "start_time": "2024-09-03T05:53:42.632Z"
   },
   {
    "duration": 5643,
    "start_time": "2024-09-03T05:53:42.637Z"
   },
   {
    "duration": 2183,
    "start_time": "2024-09-03T05:53:48.282Z"
   },
   {
    "duration": 252,
    "start_time": "2024-09-03T05:53:50.467Z"
   },
   {
    "duration": 251,
    "start_time": "2024-09-03T05:53:50.721Z"
   },
   {
    "duration": 42,
    "start_time": "2024-09-03T05:53:50.975Z"
   },
   {
    "duration": 3,
    "start_time": "2024-09-03T05:58:51.856Z"
   },
   {
    "duration": 94,
    "start_time": "2024-09-03T05:58:51.861Z"
   },
   {
    "duration": 4,
    "start_time": "2024-09-03T05:58:51.957Z"
   },
   {
    "duration": 5649,
    "start_time": "2024-09-03T05:58:51.963Z"
   },
   {
    "duration": 4565,
    "start_time": "2024-09-03T05:58:57.614Z"
   },
   {
    "duration": 2,
    "start_time": "2024-09-03T05:59:02.181Z"
   },
   {
    "duration": 4687,
    "start_time": "2024-09-03T05:59:02.185Z"
   },
   {
    "duration": 1976,
    "start_time": "2024-09-03T05:59:06.874Z"
   },
   {
    "duration": 234,
    "start_time": "2024-09-03T05:59:08.852Z"
   },
   {
    "duration": 265,
    "start_time": "2024-09-03T05:59:09.088Z"
   },
   {
    "duration": 19,
    "start_time": "2024-09-03T05:59:09.355Z"
   },
   {
    "duration": 533,
    "start_time": "2024-09-03T20:08:07.267Z"
   },
   {
    "duration": 12,
    "start_time": "2024-09-03T20:08:07.802Z"
   },
   {
    "duration": 10,
    "start_time": "2024-09-03T20:08:07.815Z"
   },
   {
    "duration": 6670,
    "start_time": "2024-09-03T20:08:07.827Z"
   },
   {
    "duration": 5043,
    "start_time": "2024-09-03T20:08:14.499Z"
   },
   {
    "duration": 3,
    "start_time": "2024-09-03T20:08:19.544Z"
   },
   {
    "duration": 5065,
    "start_time": "2024-09-03T20:08:19.549Z"
   },
   {
    "duration": 1973,
    "start_time": "2024-09-03T20:08:24.616Z"
   },
   {
    "duration": 258,
    "start_time": "2024-09-03T20:08:26.591Z"
   },
   {
    "duration": 249,
    "start_time": "2024-09-03T20:08:26.851Z"
   },
   {
    "duration": 24,
    "start_time": "2024-09-03T20:08:27.101Z"
   },
   {
    "duration": 1175,
    "start_time": "2024-09-03T20:12:15.852Z"
   },
   {
    "duration": 770,
    "start_time": "2024-09-03T20:12:34.371Z"
   },
   {
    "duration": 667,
    "start_time": "2024-09-03T20:12:57.421Z"
   },
   {
    "duration": 19,
    "start_time": "2024-09-03T20:13:44.003Z"
   },
   {
    "duration": 540,
    "start_time": "2024-09-03T20:21:15.105Z"
   },
   {
    "duration": 10,
    "start_time": "2024-09-03T20:21:15.647Z"
   },
   {
    "duration": 3,
    "start_time": "2024-09-03T20:21:15.659Z"
   },
   {
    "duration": 93,
    "start_time": "2024-09-03T20:21:15.664Z"
   },
   {
    "duration": 0,
    "start_time": "2024-09-03T20:21:15.759Z"
   },
   {
    "duration": 0,
    "start_time": "2024-09-03T20:21:15.761Z"
   },
   {
    "duration": 0,
    "start_time": "2024-09-03T20:21:15.763Z"
   },
   {
    "duration": 1,
    "start_time": "2024-09-03T20:21:15.764Z"
   },
   {
    "duration": 0,
    "start_time": "2024-09-03T20:21:15.766Z"
   },
   {
    "duration": 0,
    "start_time": "2024-09-03T20:21:15.768Z"
   },
   {
    "duration": 0,
    "start_time": "2024-09-03T20:21:15.769Z"
   },
   {
    "duration": 0,
    "start_time": "2024-09-03T20:21:15.770Z"
   },
   {
    "duration": 574,
    "start_time": "2024-09-03T20:23:00.685Z"
   },
   {
    "duration": 12,
    "start_time": "2024-09-03T20:23:01.262Z"
   },
   {
    "duration": 3,
    "start_time": "2024-09-03T20:23:01.277Z"
   },
   {
    "duration": 6581,
    "start_time": "2024-09-03T20:23:01.282Z"
   },
   {
    "duration": 20,
    "start_time": "2024-09-03T20:23:07.864Z"
   },
   {
    "duration": 4765,
    "start_time": "2024-09-03T20:23:07.885Z"
   },
   {
    "duration": 3,
    "start_time": "2024-09-03T20:23:12.651Z"
   },
   {
    "duration": 5106,
    "start_time": "2024-09-03T20:23:12.655Z"
   },
   {
    "duration": 2032,
    "start_time": "2024-09-03T20:23:17.763Z"
   },
   {
    "duration": 260,
    "start_time": "2024-09-03T20:23:19.797Z"
   },
   {
    "duration": 239,
    "start_time": "2024-09-03T20:23:20.059Z"
   },
   {
    "duration": 22,
    "start_time": "2024-09-03T20:23:20.300Z"
   },
   {
    "duration": 554,
    "start_time": "2024-09-04T05:34:51.830Z"
   },
   {
    "duration": 103,
    "start_time": "2024-09-04T05:34:52.386Z"
   },
   {
    "duration": 3,
    "start_time": "2024-09-04T05:34:52.491Z"
   },
   {
    "duration": 6187,
    "start_time": "2024-09-04T05:34:52.496Z"
   },
   {
    "duration": 20,
    "start_time": "2024-09-04T05:34:58.684Z"
   },
   {
    "duration": 4809,
    "start_time": "2024-09-04T05:34:58.706Z"
   },
   {
    "duration": 3,
    "start_time": "2024-09-04T05:35:03.516Z"
   },
   {
    "duration": 4805,
    "start_time": "2024-09-04T05:35:03.520Z"
   },
   {
    "duration": 1835,
    "start_time": "2024-09-04T05:35:08.327Z"
   },
   {
    "duration": 269,
    "start_time": "2024-09-04T05:35:10.164Z"
   },
   {
    "duration": 240,
    "start_time": "2024-09-04T05:35:10.435Z"
   },
   {
    "duration": 18,
    "start_time": "2024-09-04T05:35:10.676Z"
   },
   {
    "duration": 81,
    "start_time": "2024-09-04T05:50:14.815Z"
   },
   {
    "duration": 42,
    "start_time": "2024-09-04T05:50:19.996Z"
   },
   {
    "duration": 65,
    "start_time": "2024-09-04T05:50:52.478Z"
   },
   {
    "duration": 78,
    "start_time": "2024-09-04T06:03:23.727Z"
   },
   {
    "duration": 93,
    "start_time": "2024-09-04T06:05:19.593Z"
   },
   {
    "duration": 64,
    "start_time": "2024-09-04T06:05:44.801Z"
   },
   {
    "duration": 54,
    "start_time": "2024-09-04T06:05:58.521Z"
   },
   {
    "duration": 64,
    "start_time": "2024-09-04T06:06:12.446Z"
   },
   {
    "duration": 68,
    "start_time": "2024-09-04T06:06:37.238Z"
   },
   {
    "duration": 71,
    "start_time": "2024-09-04T06:06:50.904Z"
   },
   {
    "duration": 64,
    "start_time": "2024-09-04T06:07:01.973Z"
   },
   {
    "duration": 129,
    "start_time": "2024-09-04T06:07:33.855Z"
   },
   {
    "duration": 26,
    "start_time": "2024-09-04T06:13:36.345Z"
   },
   {
    "duration": 3,
    "start_time": "2024-09-04T06:14:45.580Z"
   },
   {
    "duration": 63,
    "start_time": "2024-09-04T06:14:45.585Z"
   },
   {
    "duration": 3,
    "start_time": "2024-09-04T06:14:45.650Z"
   },
   {
    "duration": 5557,
    "start_time": "2024-09-04T06:14:45.655Z"
   },
   {
    "duration": 27,
    "start_time": "2024-09-04T06:14:51.215Z"
   },
   {
    "duration": 27,
    "start_time": "2024-09-04T06:14:51.243Z"
   },
   {
    "duration": 0,
    "start_time": "2024-09-04T06:14:51.271Z"
   },
   {
    "duration": 0,
    "start_time": "2024-09-04T06:14:51.272Z"
   },
   {
    "duration": 0,
    "start_time": "2024-09-04T06:14:51.274Z"
   },
   {
    "duration": 0,
    "start_time": "2024-09-04T06:14:51.275Z"
   },
   {
    "duration": 0,
    "start_time": "2024-09-04T06:14:51.276Z"
   },
   {
    "duration": 0,
    "start_time": "2024-09-04T06:14:51.277Z"
   },
   {
    "duration": 0,
    "start_time": "2024-09-04T06:14:51.278Z"
   },
   {
    "duration": 0,
    "start_time": "2024-09-04T06:14:51.279Z"
   },
   {
    "duration": 2,
    "start_time": "2024-09-04T06:17:08.716Z"
   },
   {
    "duration": 74,
    "start_time": "2024-09-04T06:17:08.722Z"
   },
   {
    "duration": 3,
    "start_time": "2024-09-04T06:17:08.798Z"
   },
   {
    "duration": 5491,
    "start_time": "2024-09-04T06:17:08.802Z"
   },
   {
    "duration": 18,
    "start_time": "2024-09-04T06:17:14.295Z"
   },
   {
    "duration": 31,
    "start_time": "2024-09-04T06:17:14.315Z"
   },
   {
    "duration": 0,
    "start_time": "2024-09-04T06:17:14.348Z"
   },
   {
    "duration": 0,
    "start_time": "2024-09-04T06:17:14.349Z"
   },
   {
    "duration": 0,
    "start_time": "2024-09-04T06:17:14.351Z"
   },
   {
    "duration": 0,
    "start_time": "2024-09-04T06:17:14.352Z"
   },
   {
    "duration": 0,
    "start_time": "2024-09-04T06:17:14.353Z"
   },
   {
    "duration": 0,
    "start_time": "2024-09-04T06:17:14.354Z"
   },
   {
    "duration": 0,
    "start_time": "2024-09-04T06:17:14.355Z"
   },
   {
    "duration": 0,
    "start_time": "2024-09-04T06:17:14.356Z"
   },
   {
    "duration": 3,
    "start_time": "2024-09-04T06:18:49.488Z"
   },
   {
    "duration": 5872,
    "start_time": "2024-09-04T06:18:53.595Z"
   },
   {
    "duration": 18,
    "start_time": "2024-09-04T06:19:04.304Z"
   },
   {
    "duration": 18,
    "start_time": "2024-09-04T06:19:07.135Z"
   },
   {
    "duration": 342,
    "start_time": "2024-09-04T06:19:33.113Z"
   },
   {
    "duration": 19,
    "start_time": "2024-09-04T06:22:16.301Z"
   },
   {
    "duration": 320,
    "start_time": "2024-09-04T06:22:16.896Z"
   },
   {
    "duration": 5071,
    "start_time": "2024-09-04T06:22:17.367Z"
   },
   {
    "duration": 2,
    "start_time": "2024-09-04T06:22:22.440Z"
   },
   {
    "duration": 5166,
    "start_time": "2024-09-04T06:22:22.443Z"
   },
   {
    "duration": 2314,
    "start_time": "2024-09-04T06:22:27.611Z"
   },
   {
    "duration": 310,
    "start_time": "2024-09-04T06:22:29.927Z"
   },
   {
    "duration": 253,
    "start_time": "2024-09-04T06:22:30.239Z"
   },
   {
    "duration": 35,
    "start_time": "2024-09-04T06:22:30.494Z"
   },
   {
    "duration": 486,
    "start_time": "2024-09-04T10:26:15.924Z"
   },
   {
    "duration": 9,
    "start_time": "2024-09-04T10:26:16.412Z"
   },
   {
    "duration": 2,
    "start_time": "2024-09-04T10:26:16.422Z"
   },
   {
    "duration": 5063,
    "start_time": "2024-09-04T10:26:16.426Z"
   },
   {
    "duration": 15,
    "start_time": "2024-09-04T10:26:21.491Z"
   },
   {
    "duration": 15,
    "start_time": "2024-09-04T10:26:21.507Z"
   },
   {
    "duration": 278,
    "start_time": "2024-09-04T10:26:21.523Z"
   },
   {
    "duration": 4081,
    "start_time": "2024-09-04T10:26:21.803Z"
   },
   {
    "duration": 3,
    "start_time": "2024-09-04T10:26:25.885Z"
   },
   {
    "duration": 4308,
    "start_time": "2024-09-04T10:26:25.889Z"
   },
   {
    "duration": 1740,
    "start_time": "2024-09-04T10:26:30.199Z"
   },
   {
    "duration": 183,
    "start_time": "2024-09-04T10:26:31.940Z"
   },
   {
    "duration": 182,
    "start_time": "2024-09-04T10:26:32.124Z"
   },
   {
    "duration": 16,
    "start_time": "2024-09-04T10:26:32.308Z"
   },
   {
    "duration": 446,
    "start_time": "2024-09-04T13:38:02.507Z"
   },
   {
    "duration": 9,
    "start_time": "2024-09-04T13:38:02.955Z"
   },
   {
    "duration": 21,
    "start_time": "2024-09-04T13:38:02.965Z"
   },
   {
    "duration": 4925,
    "start_time": "2024-09-04T13:38:02.988Z"
   },
   {
    "duration": 16,
    "start_time": "2024-09-04T13:38:07.914Z"
   },
   {
    "duration": 27,
    "start_time": "2024-09-04T13:38:07.931Z"
   },
   {
    "duration": 279,
    "start_time": "2024-09-04T13:38:07.960Z"
   },
   {
    "duration": 4000,
    "start_time": "2024-09-04T13:38:08.241Z"
   },
   {
    "duration": 2,
    "start_time": "2024-09-04T13:38:12.243Z"
   },
   {
    "duration": 4352,
    "start_time": "2024-09-04T13:38:12.246Z"
   },
   {
    "duration": 2166,
    "start_time": "2024-09-04T13:38:16.599Z"
   },
   {
    "duration": 316,
    "start_time": "2024-09-04T13:38:18.767Z"
   },
   {
    "duration": 375,
    "start_time": "2024-09-04T13:38:19.084Z"
   },
   {
    "duration": 18,
    "start_time": "2024-09-04T13:38:19.460Z"
   }
  ],
  "kernelspec": {
   "display_name": "Python [conda env:base] *",
   "language": "python",
   "name": "conda-base-py"
  },
  "language_info": {
   "codemirror_mode": {
    "name": "ipython",
    "version": 3
   },
   "file_extension": ".py",
   "mimetype": "text/x-python",
   "name": "python",
   "nbconvert_exporter": "python",
   "pygments_lexer": "ipython3",
   "version": "3.12.4"
  },
  "toc": {
   "base_numbering": 1,
   "nav_menu": {},
   "number_sections": true,
   "sideBar": true,
   "skip_h1_title": true,
   "title_cell": "Table of Contents",
   "title_sidebar": "Contents",
   "toc_cell": false,
   "toc_position": {},
   "toc_section_display": true,
   "toc_window_display": false
  }
 },
 "nbformat": 4,
 "nbformat_minor": 5
}
